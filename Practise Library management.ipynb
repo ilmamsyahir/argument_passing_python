{
 "cells": [
  {
   "cell_type": "code",
   "execution_count": 1,
   "id": "d2845a12",
   "metadata": {},
   "outputs": [
    {
     "name": "stdout",
     "output_type": "stream",
     "text": [
      "Checkout Processed by: Sarah Connor\n",
      "Books Checked Out:\n",
      "- 1984\n",
      "- Brave New World\n",
      "Checkout Duration: 3 weeks\n",
      "Additional Checkout Details:\n",
      "- Late Fee: $0.25\n",
      "- Renewals Allowed: 2\n",
      "- Special Conditions: Handle with care\n"
     ]
    }
   ],
   "source": [
    "def checkout_books(librarian_name, *book_titles, duration='3 weeks', **kwargs):\n",
    "    print(\"Checkout Processed by: \" + librarian_name)\n",
    "    print(\"Books Checked Out:\")\n",
    "    for book in book_titles:\n",
    "        print(\"- \" + book)\n",
    "\n",
    "    print(\"Checkout Duration: \" + duration)\n",
    "    \n",
    "    def print_additional_details(**details):\n",
    "        print(\"Additional Checkout Details:\")\n",
    "        for detail, value in details.items():\n",
    "            print(\"- \" + detail.replace('_', ' ').title() + \": \" + str(value))\n",
    "    \n",
    "    if kwargs:\n",
    "        print_additional_details(**kwargs)\n",
    "\n",
    "checkout_books('Sarah Connor', '1984', 'Brave New World', late_fee='$0.25', renewals_allowed=2, special_conditions='Handle with care')"
   ]
  },
  {
   "cell_type": "code",
   "execution_count": null,
   "id": "970ad4f1",
   "metadata": {},
   "outputs": [],
   "source": []
  }
 ],
 "metadata": {
  "kernelspec": {
   "display_name": "Python 3 (ipykernel)",
   "language": "python",
   "name": "python3"
  },
  "language_info": {
   "codemirror_mode": {
    "name": "ipython",
    "version": 3
   },
   "file_extension": ".py",
   "mimetype": "text/x-python",
   "name": "python",
   "nbconvert_exporter": "python",
   "pygments_lexer": "ipython3",
   "version": "3.11.5"
  }
 },
 "nbformat": 4,
 "nbformat_minor": 5
}
